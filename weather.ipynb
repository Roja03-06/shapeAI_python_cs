{
  "nbformat": 4,
  "nbformat_minor": 0,
  "metadata": {
    "colab": {
      "name": "weather.ipynb",
      "provenance": [],
      "collapsed_sections": []
    },
    "kernelspec": {
      "name": "python3",
      "display_name": "Python 3"
    },
    "language_info": {
      "name": "python"
    }
  },
  "cells": [
    {
      "cell_type": "code",
      "metadata": {
        "id": "iFxGL7mpISST"
      },
      "source": [
        "import requests"
      ],
      "execution_count": 1,
      "outputs": []
    },
    {
      "cell_type": "code",
      "metadata": {
        "id": "D5ereixuI-C7"
      },
      "source": [
        "from datetime import datetime"
      ],
      "execution_count": 2,
      "outputs": []
    },
    {
      "cell_type": "code",
      "metadata": {
        "id": "hnYDTGgtJErJ"
      },
      "source": [
        "api_key= '9237d6e43beeee2c0f64a35a36930e55'"
      ],
      "execution_count": 3,
      "outputs": []
    },
    {
      "cell_type": "code",
      "metadata": {
        "colab": {
          "base_uri": "https://localhost:8080/"
        },
        "id": "egz6D6QhJLEb",
        "outputId": "b8d3eeb8-92e3-4536-ef35-89a22aa12caf"
      },
      "source": [
        "location = input(\"enter the city name:\")"
      ],
      "execution_count": 10,
      "outputs": [
        {
          "output_type": "stream",
          "text": [
            "enter the city name:ranchi\n"
          ],
          "name": "stdout"
        }
      ]
    },
    {
      "cell_type": "code",
      "metadata": {
        "id": "3Zx62YxqKh96"
      },
      "source": [
        ""
      ],
      "execution_count": null,
      "outputs": []
    },
    {
      "cell_type": "code",
      "metadata": {
        "id": "A02Zmv7jJS7b"
      },
      "source": [
        "complete_api_link = \"https://api.openweathermap.org/data/2.5/weather?q=\"+location+\"&appid=\"+api_key"
      ],
      "execution_count": 11,
      "outputs": []
    },
    {
      "cell_type": "code",
      "metadata": {
        "id": "0K61jSEdJ5HL"
      },
      "source": [
        "api_link = requests.get(complete_api_link)"
      ],
      "execution_count": 12,
      "outputs": []
    },
    {
      "cell_type": "code",
      "metadata": {
        "id": "HSmjI_dEKGa6"
      },
      "source": [
        "api_data = api_link.json()"
      ],
      "execution_count": 13,
      "outputs": []
    },
    {
      "cell_type": "code",
      "metadata": {
        "id": "eg2bd-AvKPYz"
      },
      "source": [
        "temp_city = ((api_data['main']['temp']))"
      ],
      "execution_count": 14,
      "outputs": []
    },
    {
      "cell_type": "code",
      "metadata": {
        "id": "xCdPfkEIKxu6"
      },
      "source": [
        "weather_desc = api_data['weather'][0]['description']"
      ],
      "execution_count": 15,
      "outputs": []
    },
    {
      "cell_type": "code",
      "metadata": {
        "id": "Nidwf4r0Lri7"
      },
      "source": [
        "hmdt =  api_data['main']['humidity']"
      ],
      "execution_count": 16,
      "outputs": []
    },
    {
      "cell_type": "code",
      "metadata": {
        "id": "BlFX9sJKL9qI"
      },
      "source": [
        "wind_spd = api_data['wind']['speed']"
      ],
      "execution_count": 24,
      "outputs": []
    },
    {
      "cell_type": "code",
      "metadata": {
        "id": "jL7lyNYoMpa6"
      },
      "source": [
        "date_time = datetime.now().strftime(\"%d %b %Y | %I:%M:%S %P\")"
      ],
      "execution_count": 25,
      "outputs": []
    },
    {
      "cell_type": "code",
      "metadata": {
        "colab": {
          "base_uri": "https://localhost:8080/"
        },
        "id": "7f2Rt1ovMLEo",
        "outputId": "cd560305-39da-4c84-dff6-abc63b58bc68"
      },
      "source": [
        "print(\"--------------------------------------------------------------------------\")"
      ],
      "execution_count": 26,
      "outputs": [
        {
          "output_type": "stream",
          "text": [
            "--------------------------------------------------------------------------\n"
          ],
          "name": "stdout"
        }
      ]
    },
    {
      "cell_type": "code",
      "metadata": {
        "colab": {
          "base_uri": "https://localhost:8080/"
        },
        "id": "xeXSBf6kMUJp",
        "outputId": "c303f4a6-2e7b-45b2-de50-5f952815e874"
      },
      "source": [
        "print(\"weather stats for - {} || {}\".format(location.upper(),date_time))"
      ],
      "execution_count": 27,
      "outputs": [
        {
          "output_type": "stream",
          "text": [
            "weather stats for - RANCHI || 23 Jun 2021 | 02:09:14 pm\n"
          ],
          "name": "stdout"
        }
      ]
    },
    {
      "cell_type": "code",
      "metadata": {
        "colab": {
          "base_uri": "https://localhost:8080/"
        },
        "id": "RzbvE9TLNFWS",
        "outputId": "a1944a7d-7c76-411d-e1a4-e18418f1752f"
      },
      "source": [
        "print(\"current temperature is: {:.2f} deg C\".format(temp_city))"
      ],
      "execution_count": 28,
      "outputs": [
        {
          "output_type": "stream",
          "text": [
            "current temperature is: 299.21 deg C\n"
          ],
          "name": "stdout"
        }
      ]
    },
    {
      "cell_type": "code",
      "metadata": {
        "colab": {
          "base_uri": "https://localhost:8080/"
        },
        "id": "NBuqVLs-NXnU",
        "outputId": "1c9bdfd1-4615-4606-8e5f-7008664eee91"
      },
      "source": [
        "print(\"current weather desc :\",weather_desc )"
      ],
      "execution_count": 29,
      "outputs": [
        {
          "output_type": "stream",
          "text": [
            "current weather desc : haze\n"
          ],
          "name": "stdout"
        }
      ]
    },
    {
      "cell_type": "code",
      "metadata": {
        "colab": {
          "base_uri": "https://localhost:8080/"
        },
        "id": "N_AVVKfxNlnk",
        "outputId": "0ced304f-68ee-4ec3-f1dd-0132ff8fc98e"
      },
      "source": [
        "print(\"current Humidity : \",hmdt, '%')"
      ],
      "execution_count": 30,
      "outputs": [
        {
          "output_type": "stream",
          "text": [
            "current Humidity :  94 %\n"
          ],
          "name": "stdout"
        }
      ]
    },
    {
      "cell_type": "code",
      "metadata": {
        "colab": {
          "base_uri": "https://localhost:8080/"
        },
        "id": "clK0reDHNxqS",
        "outputId": "bbccb99c-4460-43d0-aef1-64f55e6eca27"
      },
      "source": [
        "print(\"current wind speed: \",wind_spd,'kmph')"
      ],
      "execution_count": 31,
      "outputs": [
        {
          "output_type": "stream",
          "text": [
            "current wind speed:  1.54 kmph\n"
          ],
          "name": "stdout"
        }
      ]
    }
  ]
}